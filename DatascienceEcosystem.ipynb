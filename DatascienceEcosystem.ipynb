{
 "cells": [
  {
   "cell_type": "markdown",
   "id": "9f01d1ba",
   "metadata": {},
   "source": [
    "#  Data Science Tools and Ecosystem"
   ]
  },
  {
   "cell_type": "markdown",
   "id": "f484bdfa",
   "metadata": {},
   "source": [
    "##### In this notebook, Data Science Tools and Ecosystem are summarized."
   ]
  },
  {
   "cell_type": "markdown",
   "id": "fd3a4868",
   "metadata": {},
   "source": [
    "#### Some of the key takeaways from the course\n",
    "**OBJECTIVES :**\n",
    "+ Popular languages for Data Scirnce\n",
    "+ Libraries used in Data science\n",
    "+ Table od Data science Tools\n",
    "+ Arithmatic Expressions in Python\n"
   ]
  },
  {
   "cell_type": "markdown",
   "id": "6deb288d",
   "metadata": {},
   "source": [
    "#### Some of the popular languages that Data Scientists use are:\n",
    "1. Python\n",
    "2. R\n",
    "3. SQL\n",
    "4. Scala\n",
    "5. Java\n",
    "6. C++\n",
    "7. Julia\n",
    "8. Java Script\n",
    "9. Php\n",
    "10. Rubi\n",
    "11. Visual basic\n",
    "12. Go"
   ]
  },
  {
   "cell_type": "markdown",
   "id": "b250b723",
   "metadata": {},
   "source": [
    "#### Some of the commonly used libraries used by Data Scientists include:\n",
    "1. Pandas\n",
    "2. Numpy\n",
    "3. Matplotlib\n",
    "4. Seaborn\n",
    "5. Scikit-learn\n",
    "6. Keras\n",
    "7. Tensorflow\n",
    "8. Pytorch"
   ]
  },
  {
   "cell_type": "markdown",
   "id": "769e4af6",
   "metadata": {},
   "source": [
    "#### Table of Data Science Tools"
   ]
  },
  {
   "cell_type": "markdown",
   "id": "7462db8e",
   "metadata": {},
   "source": [
    "| Data Science Tools |\n",
    "|------------|\n",
    "|RStudio|\n",
    "|Apache Spark|\n",
    "|TensorFlow|\n",
    "|Apache Hadoop|\n"
   ]
  },
  {
   "cell_type": "markdown",
   "id": "63392e5c",
   "metadata": {},
   "source": [
    "#### Below are a few examples of evaluating arithmetic expressions in Python\n",
    "\n"
   ]
  },
  {
   "cell_type": "code",
   "execution_count": 7,
   "id": "f10e8b1b",
   "metadata": {},
   "outputs": [
    {
     "data": {
      "text/plain": [
       "175"
      ]
     },
     "execution_count": 7,
     "metadata": {},
     "output_type": "execute_result"
    }
   ],
   "source": [
    "130 + 45"
   ]
  },
  {
   "cell_type": "code",
   "execution_count": 9,
   "id": "81601104",
   "metadata": {},
   "outputs": [
    {
     "data": {
      "text/plain": [
       "47"
      ]
     },
     "execution_count": 9,
     "metadata": {},
     "output_type": "execute_result"
    }
   ],
   "source": [
    "(10+15)+(45-23)"
   ]
  },
  {
   "cell_type": "markdown",
   "id": "c4506379",
   "metadata": {},
   "source": [
    "#### Multiply and Add numbers"
   ]
  },
  {
   "cell_type": "code",
   "execution_count": 11,
   "id": "1ebe86b1",
   "metadata": {},
   "outputs": [
    {
     "data": {
      "text/plain": [
       "17"
      ]
     },
     "execution_count": 11,
     "metadata": {},
     "output_type": "execute_result"
    }
   ],
   "source": [
    "# This a simple arithmetic expression to mutiply then add integers.\n",
    "(3*4)+5"
   ]
  },
  {
   "cell_type": "markdown",
   "id": "dd840fb1",
   "metadata": {},
   "source": [
    "#### Converting minutes to hours"
   ]
  },
  {
   "cell_type": "code",
   "execution_count": 13,
   "id": "56b67aaa",
   "metadata": {},
   "outputs": [
    {
     "data": {
      "text/plain": [
       "3.3333333333333335"
      ]
     },
     "execution_count": 13,
     "metadata": {},
     "output_type": "execute_result"
    }
   ],
   "source": [
    "# This will convert 200 minutes to hours by diving by 60.\n",
    "# 60 minutes = 1 hour \n",
    "# So, 200 minutes =\n",
    "\n",
    "200/60"
   ]
  },
  {
   "cell_type": "markdown",
   "id": "05f7658e",
   "metadata": {},
   "source": [
    "## Author\n",
    "Shivangi"
   ]
  }
 ],
 "metadata": {
  "kernelspec": {
   "display_name": "Python 3 (ipykernel)",
   "language": "python",
   "name": "python3"
  },
  "language_info": {
   "codemirror_mode": {
    "name": "ipython",
    "version": 3
   },
   "file_extension": ".py",
   "mimetype": "text/x-python",
   "name": "python",
   "nbconvert_exporter": "python",
   "pygments_lexer": "ipython3",
   "version": "3.10.9"
  }
 },
 "nbformat": 4,
 "nbformat_minor": 5
}
